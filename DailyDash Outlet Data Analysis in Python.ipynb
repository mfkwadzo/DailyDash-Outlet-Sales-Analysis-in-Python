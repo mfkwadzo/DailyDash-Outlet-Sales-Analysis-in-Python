{
 "cells": [
  {
   "cell_type": "markdown",
   "id": "2b12c868-53a6-41a7-bd0e-54bc82a16d7c",
   "metadata": {},
   "source": [
    "## DATA ANALYSIS PYTHON PROJECT - OUTLET ANALYSIS"
   ]
  },
  {
   "cell_type": "markdown",
   "id": "effa0a4c-3df1-4578-b266-b89dcfce3be5",
   "metadata": {},
   "source": [
    "### 📌 Project Overview\n",
    "This project involves performing a comprehensive sales and performance analysis for DailyDash, a retail business. \n",
    "\n",
    "The goal is to uncover actionable insights from sales, customer ratings, and outlet characteristics to help improve business decision-making and operational efficiency. \n",
    "\n",
    "The analysis focuses on key performance indicators (KPIs) and visually-driven insights using Python's data analysis and visualization libraries.\n",
    "\n"
   ]
  },
  {
   "cell_type": "markdown",
   "id": "3619114f-0647-41d1-9a78-ac67169ad0aa",
   "metadata": {},
   "source": [
    " ### The main objective is to conduct a thorough evaluation of DailyDash performance across the following dimensions:\n",
    " - Sales performance across different item types and outlet characteristics\n",
    " - Customer satisfaction through average item ratings.\n",
    " - Inventory distribution based on outlet establishment year, location, and size.\n",
    " - Category-based comparisons such as fat content and item type.\n",
    " \n",
    " ### This analysis will support decision-making by helping stakeholders:\n",
    " \n",
    " - Identify high-performing and underperforming product categories. \n",
    " - Understand customer preferences and satisfaction levels.\n"
   ]
  },
  {
   "cell_type": "markdown",
   "id": "f1f1000a-97cc-47df-8591-647d796075f0",
   "metadata": {},
   "source": [
    "### Importing Libraries"
   ]
  },
  {
   "cell_type": "code",
   "execution_count": 1,
   "id": "40d220eb-5553-4a18-b806-0b2539913f13",
   "metadata": {},
   "outputs": [],
   "source": [
    "import pandas as pd\n",
    "import numpy as np\n",
    "import matplotlib.pyplot as plt\n",
    "import seaborn as sns"
   ]
  },
  {
   "cell_type": "markdown",
   "id": "cf4dd8aa-501a-4342-9edc-2f11436a1908",
   "metadata": {},
   "source": [
    "### Importing Data"
   ]
  },
  {
   "cell_type": "code",
   "execution_count": 2,
   "id": "a1532834-9ca7-4b23-a754-00fdf7a51d67",
   "metadata": {},
   "outputs": [
    {
     "data": {
      "text/html": [
       "<div>\n",
       "<style scoped>\n",
       "    .dataframe tbody tr th:only-of-type {\n",
       "        vertical-align: middle;\n",
       "    }\n",
       "\n",
       "    .dataframe tbody tr th {\n",
       "        vertical-align: top;\n",
       "    }\n",
       "\n",
       "    .dataframe thead th {\n",
       "        text-align: right;\n",
       "    }\n",
       "</style>\n",
       "<table border=\"1\" class=\"dataframe\">\n",
       "  <thead>\n",
       "    <tr style=\"text-align: right;\">\n",
       "      <th></th>\n",
       "      <th>Item Fat Content</th>\n",
       "      <th>Item Identifier</th>\n",
       "      <th>Item Type</th>\n",
       "      <th>Outlet Establishment Year</th>\n",
       "      <th>Outlet Identifier</th>\n",
       "      <th>Outlet Location Type</th>\n",
       "      <th>Outlet Size</th>\n",
       "      <th>Outlet Type</th>\n",
       "      <th>Item Visibility</th>\n",
       "      <th>Item Weight</th>\n",
       "      <th>Sales</th>\n",
       "      <th>Rating</th>\n",
       "    </tr>\n",
       "  </thead>\n",
       "  <tbody>\n",
       "    <tr>\n",
       "      <th>0</th>\n",
       "      <td>Regular</td>\n",
       "      <td>FDX32</td>\n",
       "      <td>Fruits and Vegetables</td>\n",
       "      <td>2012</td>\n",
       "      <td>OUT049</td>\n",
       "      <td>Tier 1</td>\n",
       "      <td>Medium</td>\n",
       "      <td>Supermarket Type1</td>\n",
       "      <td>0.100014</td>\n",
       "      <td>15.10</td>\n",
       "      <td>145.4786</td>\n",
       "      <td>5.0</td>\n",
       "    </tr>\n",
       "    <tr>\n",
       "      <th>1</th>\n",
       "      <td>Low Fat</td>\n",
       "      <td>NCB42</td>\n",
       "      <td>Health and Hygiene</td>\n",
       "      <td>2022</td>\n",
       "      <td>OUT018</td>\n",
       "      <td>Tier 3</td>\n",
       "      <td>Medium</td>\n",
       "      <td>Supermarket Type2</td>\n",
       "      <td>0.008596</td>\n",
       "      <td>11.80</td>\n",
       "      <td>115.3492</td>\n",
       "      <td>5.0</td>\n",
       "    </tr>\n",
       "    <tr>\n",
       "      <th>2</th>\n",
       "      <td>Regular</td>\n",
       "      <td>FDR28</td>\n",
       "      <td>Frozen Foods</td>\n",
       "      <td>2010</td>\n",
       "      <td>OUT046</td>\n",
       "      <td>Tier 1</td>\n",
       "      <td>Small</td>\n",
       "      <td>Supermarket Type1</td>\n",
       "      <td>0.025896</td>\n",
       "      <td>13.85</td>\n",
       "      <td>165.0210</td>\n",
       "      <td>5.0</td>\n",
       "    </tr>\n",
       "    <tr>\n",
       "      <th>3</th>\n",
       "      <td>Regular</td>\n",
       "      <td>FDL50</td>\n",
       "      <td>Canned</td>\n",
       "      <td>2000</td>\n",
       "      <td>OUT013</td>\n",
       "      <td>Tier 3</td>\n",
       "      <td>High</td>\n",
       "      <td>Supermarket Type1</td>\n",
       "      <td>0.042278</td>\n",
       "      <td>12.15</td>\n",
       "      <td>126.5046</td>\n",
       "      <td>5.0</td>\n",
       "    </tr>\n",
       "    <tr>\n",
       "      <th>4</th>\n",
       "      <td>Low Fat</td>\n",
       "      <td>DRI25</td>\n",
       "      <td>Soft Drinks</td>\n",
       "      <td>2015</td>\n",
       "      <td>OUT045</td>\n",
       "      <td>Tier 2</td>\n",
       "      <td>Small</td>\n",
       "      <td>Supermarket Type1</td>\n",
       "      <td>0.033970</td>\n",
       "      <td>19.60</td>\n",
       "      <td>55.1614</td>\n",
       "      <td>5.0</td>\n",
       "    </tr>\n",
       "    <tr>\n",
       "      <th>...</th>\n",
       "      <td>...</td>\n",
       "      <td>...</td>\n",
       "      <td>...</td>\n",
       "      <td>...</td>\n",
       "      <td>...</td>\n",
       "      <td>...</td>\n",
       "      <td>...</td>\n",
       "      <td>...</td>\n",
       "      <td>...</td>\n",
       "      <td>...</td>\n",
       "      <td>...</td>\n",
       "      <td>...</td>\n",
       "    </tr>\n",
       "    <tr>\n",
       "      <th>8518</th>\n",
       "      <td>low fat</td>\n",
       "      <td>NCT53</td>\n",
       "      <td>Health and Hygiene</td>\n",
       "      <td>1998</td>\n",
       "      <td>OUT027</td>\n",
       "      <td>Tier 3</td>\n",
       "      <td>Medium</td>\n",
       "      <td>Supermarket Type3</td>\n",
       "      <td>0.000000</td>\n",
       "      <td>NaN</td>\n",
       "      <td>164.5526</td>\n",
       "      <td>4.0</td>\n",
       "    </tr>\n",
       "    <tr>\n",
       "      <th>8519</th>\n",
       "      <td>low fat</td>\n",
       "      <td>FDN09</td>\n",
       "      <td>Snack Foods</td>\n",
       "      <td>1998</td>\n",
       "      <td>OUT027</td>\n",
       "      <td>Tier 3</td>\n",
       "      <td>Medium</td>\n",
       "      <td>Supermarket Type3</td>\n",
       "      <td>0.034706</td>\n",
       "      <td>NaN</td>\n",
       "      <td>241.6828</td>\n",
       "      <td>4.0</td>\n",
       "    </tr>\n",
       "    <tr>\n",
       "      <th>8520</th>\n",
       "      <td>low fat</td>\n",
       "      <td>DRE13</td>\n",
       "      <td>Soft Drinks</td>\n",
       "      <td>1998</td>\n",
       "      <td>OUT027</td>\n",
       "      <td>Tier 3</td>\n",
       "      <td>Medium</td>\n",
       "      <td>Supermarket Type3</td>\n",
       "      <td>0.027571</td>\n",
       "      <td>NaN</td>\n",
       "      <td>86.6198</td>\n",
       "      <td>4.0</td>\n",
       "    </tr>\n",
       "    <tr>\n",
       "      <th>8521</th>\n",
       "      <td>reg</td>\n",
       "      <td>FDT50</td>\n",
       "      <td>Dairy</td>\n",
       "      <td>1998</td>\n",
       "      <td>OUT027</td>\n",
       "      <td>Tier 3</td>\n",
       "      <td>Medium</td>\n",
       "      <td>Supermarket Type3</td>\n",
       "      <td>0.107715</td>\n",
       "      <td>NaN</td>\n",
       "      <td>97.8752</td>\n",
       "      <td>4.0</td>\n",
       "    </tr>\n",
       "    <tr>\n",
       "      <th>8522</th>\n",
       "      <td>reg</td>\n",
       "      <td>FDM58</td>\n",
       "      <td>Snack Foods</td>\n",
       "      <td>1998</td>\n",
       "      <td>OUT027</td>\n",
       "      <td>Tier 3</td>\n",
       "      <td>Medium</td>\n",
       "      <td>Supermarket Type3</td>\n",
       "      <td>0.000000</td>\n",
       "      <td>NaN</td>\n",
       "      <td>112.2544</td>\n",
       "      <td>4.0</td>\n",
       "    </tr>\n",
       "  </tbody>\n",
       "</table>\n",
       "<p>8523 rows × 12 columns</p>\n",
       "</div>"
      ],
      "text/plain": [
       "     Item Fat Content Item Identifier              Item Type  \\\n",
       "0             Regular           FDX32  Fruits and Vegetables   \n",
       "1             Low Fat           NCB42     Health and Hygiene   \n",
       "2             Regular           FDR28           Frozen Foods   \n",
       "3             Regular           FDL50                 Canned   \n",
       "4             Low Fat           DRI25            Soft Drinks   \n",
       "...               ...             ...                    ...   \n",
       "8518          low fat           NCT53     Health and Hygiene   \n",
       "8519          low fat           FDN09            Snack Foods   \n",
       "8520          low fat           DRE13            Soft Drinks   \n",
       "8521              reg           FDT50                  Dairy   \n",
       "8522              reg           FDM58            Snack Foods   \n",
       "\n",
       "      Outlet Establishment Year Outlet Identifier Outlet Location Type  \\\n",
       "0                          2012            OUT049               Tier 1   \n",
       "1                          2022            OUT018               Tier 3   \n",
       "2                          2010            OUT046               Tier 1   \n",
       "3                          2000            OUT013               Tier 3   \n",
       "4                          2015            OUT045               Tier 2   \n",
       "...                         ...               ...                  ...   \n",
       "8518                       1998            OUT027               Tier 3   \n",
       "8519                       1998            OUT027               Tier 3   \n",
       "8520                       1998            OUT027               Tier 3   \n",
       "8521                       1998            OUT027               Tier 3   \n",
       "8522                       1998            OUT027               Tier 3   \n",
       "\n",
       "     Outlet Size        Outlet Type  Item Visibility  Item Weight     Sales  \\\n",
       "0         Medium  Supermarket Type1         0.100014        15.10  145.4786   \n",
       "1         Medium  Supermarket Type2         0.008596        11.80  115.3492   \n",
       "2          Small  Supermarket Type1         0.025896        13.85  165.0210   \n",
       "3           High  Supermarket Type1         0.042278        12.15  126.5046   \n",
       "4          Small  Supermarket Type1         0.033970        19.60   55.1614   \n",
       "...          ...                ...              ...          ...       ...   \n",
       "8518      Medium  Supermarket Type3         0.000000          NaN  164.5526   \n",
       "8519      Medium  Supermarket Type3         0.034706          NaN  241.6828   \n",
       "8520      Medium  Supermarket Type3         0.027571          NaN   86.6198   \n",
       "8521      Medium  Supermarket Type3         0.107715          NaN   97.8752   \n",
       "8522      Medium  Supermarket Type3         0.000000          NaN  112.2544   \n",
       "\n",
       "      Rating  \n",
       "0        5.0  \n",
       "1        5.0  \n",
       "2        5.0  \n",
       "3        5.0  \n",
       "4        5.0  \n",
       "...      ...  \n",
       "8518     4.0  \n",
       "8519     4.0  \n",
       "8520     4.0  \n",
       "8521     4.0  \n",
       "8522     4.0  \n",
       "\n",
       "[8523 rows x 12 columns]"
      ]
     },
     "execution_count": 2,
     "metadata": {},
     "output_type": "execute_result"
    }
   ],
   "source": [
    "df = pd.read_csv(r\"C:\\Users\\USER\\Desktop\\Data Analysis\\Python Doc\\Outlet_data.csv\")\n",
    "df"
   ]
  },
  {
   "cell_type": "markdown",
   "id": "6e0ffbc2-a032-4ef5-a4f8-332e91b83410",
   "metadata": {},
   "source": [
    "### Sample Data"
   ]
  },
  {
   "cell_type": "code",
   "execution_count": 3,
   "id": "9252dd0b-1cb7-42ec-98cf-9e45a2b58757",
   "metadata": {},
   "outputs": [
    {
     "data": {
      "text/html": [
       "<div>\n",
       "<style scoped>\n",
       "    .dataframe tbody tr th:only-of-type {\n",
       "        vertical-align: middle;\n",
       "    }\n",
       "\n",
       "    .dataframe tbody tr th {\n",
       "        vertical-align: top;\n",
       "    }\n",
       "\n",
       "    .dataframe thead th {\n",
       "        text-align: right;\n",
       "    }\n",
       "</style>\n",
       "<table border=\"1\" class=\"dataframe\">\n",
       "  <thead>\n",
       "    <tr style=\"text-align: right;\">\n",
       "      <th></th>\n",
       "      <th>Item Fat Content</th>\n",
       "      <th>Item Identifier</th>\n",
       "      <th>Item Type</th>\n",
       "      <th>Outlet Establishment Year</th>\n",
       "      <th>Outlet Identifier</th>\n",
       "      <th>Outlet Location Type</th>\n",
       "      <th>Outlet Size</th>\n",
       "      <th>Outlet Type</th>\n",
       "      <th>Item Visibility</th>\n",
       "      <th>Item Weight</th>\n",
       "      <th>Sales</th>\n",
       "      <th>Rating</th>\n",
       "    </tr>\n",
       "  </thead>\n",
       "  <tbody>\n",
       "    <tr>\n",
       "      <th>0</th>\n",
       "      <td>Regular</td>\n",
       "      <td>FDX32</td>\n",
       "      <td>Fruits and Vegetables</td>\n",
       "      <td>2012</td>\n",
       "      <td>OUT049</td>\n",
       "      <td>Tier 1</td>\n",
       "      <td>Medium</td>\n",
       "      <td>Supermarket Type1</td>\n",
       "      <td>0.100014</td>\n",
       "      <td>15.10</td>\n",
       "      <td>145.4786</td>\n",
       "      <td>5.0</td>\n",
       "    </tr>\n",
       "    <tr>\n",
       "      <th>1</th>\n",
       "      <td>Low Fat</td>\n",
       "      <td>NCB42</td>\n",
       "      <td>Health and Hygiene</td>\n",
       "      <td>2022</td>\n",
       "      <td>OUT018</td>\n",
       "      <td>Tier 3</td>\n",
       "      <td>Medium</td>\n",
       "      <td>Supermarket Type2</td>\n",
       "      <td>0.008596</td>\n",
       "      <td>11.80</td>\n",
       "      <td>115.3492</td>\n",
       "      <td>5.0</td>\n",
       "    </tr>\n",
       "    <tr>\n",
       "      <th>2</th>\n",
       "      <td>Regular</td>\n",
       "      <td>FDR28</td>\n",
       "      <td>Frozen Foods</td>\n",
       "      <td>2010</td>\n",
       "      <td>OUT046</td>\n",
       "      <td>Tier 1</td>\n",
       "      <td>Small</td>\n",
       "      <td>Supermarket Type1</td>\n",
       "      <td>0.025896</td>\n",
       "      <td>13.85</td>\n",
       "      <td>165.0210</td>\n",
       "      <td>5.0</td>\n",
       "    </tr>\n",
       "    <tr>\n",
       "      <th>3</th>\n",
       "      <td>Regular</td>\n",
       "      <td>FDL50</td>\n",
       "      <td>Canned</td>\n",
       "      <td>2000</td>\n",
       "      <td>OUT013</td>\n",
       "      <td>Tier 3</td>\n",
       "      <td>High</td>\n",
       "      <td>Supermarket Type1</td>\n",
       "      <td>0.042278</td>\n",
       "      <td>12.15</td>\n",
       "      <td>126.5046</td>\n",
       "      <td>5.0</td>\n",
       "    </tr>\n",
       "    <tr>\n",
       "      <th>4</th>\n",
       "      <td>Low Fat</td>\n",
       "      <td>DRI25</td>\n",
       "      <td>Soft Drinks</td>\n",
       "      <td>2015</td>\n",
       "      <td>OUT045</td>\n",
       "      <td>Tier 2</td>\n",
       "      <td>Small</td>\n",
       "      <td>Supermarket Type1</td>\n",
       "      <td>0.033970</td>\n",
       "      <td>19.60</td>\n",
       "      <td>55.1614</td>\n",
       "      <td>5.0</td>\n",
       "    </tr>\n",
       "    <tr>\n",
       "      <th>5</th>\n",
       "      <td>low fat</td>\n",
       "      <td>FDS52</td>\n",
       "      <td>Frozen Foods</td>\n",
       "      <td>2020</td>\n",
       "      <td>OUT017</td>\n",
       "      <td>Tier 2</td>\n",
       "      <td>Small</td>\n",
       "      <td>Supermarket Type1</td>\n",
       "      <td>0.005505</td>\n",
       "      <td>8.89</td>\n",
       "      <td>102.4016</td>\n",
       "      <td>5.0</td>\n",
       "    </tr>\n",
       "    <tr>\n",
       "      <th>6</th>\n",
       "      <td>Low Fat</td>\n",
       "      <td>NCU05</td>\n",
       "      <td>Health and Hygiene</td>\n",
       "      <td>2011</td>\n",
       "      <td>OUT010</td>\n",
       "      <td>Tier 3</td>\n",
       "      <td>Small</td>\n",
       "      <td>Grocery Store</td>\n",
       "      <td>0.098312</td>\n",
       "      <td>11.80</td>\n",
       "      <td>81.4618</td>\n",
       "      <td>5.0</td>\n",
       "    </tr>\n",
       "    <tr>\n",
       "      <th>7</th>\n",
       "      <td>Low Fat</td>\n",
       "      <td>NCD30</td>\n",
       "      <td>Household</td>\n",
       "      <td>2015</td>\n",
       "      <td>OUT045</td>\n",
       "      <td>Tier 2</td>\n",
       "      <td>Small</td>\n",
       "      <td>Supermarket Type1</td>\n",
       "      <td>0.026904</td>\n",
       "      <td>19.70</td>\n",
       "      <td>96.0726</td>\n",
       "      <td>5.0</td>\n",
       "    </tr>\n",
       "    <tr>\n",
       "      <th>8</th>\n",
       "      <td>Low Fat</td>\n",
       "      <td>FDW20</td>\n",
       "      <td>Fruits and Vegetables</td>\n",
       "      <td>2000</td>\n",
       "      <td>OUT013</td>\n",
       "      <td>Tier 3</td>\n",
       "      <td>High</td>\n",
       "      <td>Supermarket Type1</td>\n",
       "      <td>0.024129</td>\n",
       "      <td>20.75</td>\n",
       "      <td>124.1730</td>\n",
       "      <td>5.0</td>\n",
       "    </tr>\n",
       "    <tr>\n",
       "      <th>9</th>\n",
       "      <td>Low Fat</td>\n",
       "      <td>FDX25</td>\n",
       "      <td>Canned</td>\n",
       "      <td>1998</td>\n",
       "      <td>OUT027</td>\n",
       "      <td>Tier 3</td>\n",
       "      <td>Medium</td>\n",
       "      <td>Supermarket Type3</td>\n",
       "      <td>0.101562</td>\n",
       "      <td>NaN</td>\n",
       "      <td>181.9292</td>\n",
       "      <td>5.0</td>\n",
       "    </tr>\n",
       "  </tbody>\n",
       "</table>\n",
       "</div>"
      ],
      "text/plain": [
       "  Item Fat Content Item Identifier              Item Type  \\\n",
       "0          Regular           FDX32  Fruits and Vegetables   \n",
       "1          Low Fat           NCB42     Health and Hygiene   \n",
       "2          Regular           FDR28           Frozen Foods   \n",
       "3          Regular           FDL50                 Canned   \n",
       "4          Low Fat           DRI25            Soft Drinks   \n",
       "5          low fat           FDS52           Frozen Foods   \n",
       "6          Low Fat           NCU05     Health and Hygiene   \n",
       "7          Low Fat           NCD30              Household   \n",
       "8          Low Fat           FDW20  Fruits and Vegetables   \n",
       "9          Low Fat           FDX25                 Canned   \n",
       "\n",
       "   Outlet Establishment Year Outlet Identifier Outlet Location Type  \\\n",
       "0                       2012            OUT049               Tier 1   \n",
       "1                       2022            OUT018               Tier 3   \n",
       "2                       2010            OUT046               Tier 1   \n",
       "3                       2000            OUT013               Tier 3   \n",
       "4                       2015            OUT045               Tier 2   \n",
       "5                       2020            OUT017               Tier 2   \n",
       "6                       2011            OUT010               Tier 3   \n",
       "7                       2015            OUT045               Tier 2   \n",
       "8                       2000            OUT013               Tier 3   \n",
       "9                       1998            OUT027               Tier 3   \n",
       "\n",
       "  Outlet Size        Outlet Type  Item Visibility  Item Weight     Sales  \\\n",
       "0      Medium  Supermarket Type1         0.100014        15.10  145.4786   \n",
       "1      Medium  Supermarket Type2         0.008596        11.80  115.3492   \n",
       "2       Small  Supermarket Type1         0.025896        13.85  165.0210   \n",
       "3        High  Supermarket Type1         0.042278        12.15  126.5046   \n",
       "4       Small  Supermarket Type1         0.033970        19.60   55.1614   \n",
       "5       Small  Supermarket Type1         0.005505         8.89  102.4016   \n",
       "6       Small      Grocery Store         0.098312        11.80   81.4618   \n",
       "7       Small  Supermarket Type1         0.026904        19.70   96.0726   \n",
       "8        High  Supermarket Type1         0.024129        20.75  124.1730   \n",
       "9      Medium  Supermarket Type3         0.101562          NaN  181.9292   \n",
       "\n",
       "   Rating  \n",
       "0     5.0  \n",
       "1     5.0  \n",
       "2     5.0  \n",
       "3     5.0  \n",
       "4     5.0  \n",
       "5     5.0  \n",
       "6     5.0  \n",
       "7     5.0  \n",
       "8     5.0  \n",
       "9     5.0  "
      ]
     },
     "execution_count": 3,
     "metadata": {},
     "output_type": "execute_result"
    }
   ],
   "source": [
    " # To see the the top 10 data\n",
    "df.head(10)"
   ]
  },
  {
   "cell_type": "code",
   "execution_count": 4,
   "id": "4041deb8-a722-474a-82a6-5a034cfb5fd9",
   "metadata": {},
   "outputs": [
    {
     "data": {
      "text/html": [
       "<div>\n",
       "<style scoped>\n",
       "    .dataframe tbody tr th:only-of-type {\n",
       "        vertical-align: middle;\n",
       "    }\n",
       "\n",
       "    .dataframe tbody tr th {\n",
       "        vertical-align: top;\n",
       "    }\n",
       "\n",
       "    .dataframe thead th {\n",
       "        text-align: right;\n",
       "    }\n",
       "</style>\n",
       "<table border=\"1\" class=\"dataframe\">\n",
       "  <thead>\n",
       "    <tr style=\"text-align: right;\">\n",
       "      <th></th>\n",
       "      <th>Item Fat Content</th>\n",
       "      <th>Item Identifier</th>\n",
       "      <th>Item Type</th>\n",
       "      <th>Outlet Establishment Year</th>\n",
       "      <th>Outlet Identifier</th>\n",
       "      <th>Outlet Location Type</th>\n",
       "      <th>Outlet Size</th>\n",
       "      <th>Outlet Type</th>\n",
       "      <th>Item Visibility</th>\n",
       "      <th>Item Weight</th>\n",
       "      <th>Sales</th>\n",
       "      <th>Rating</th>\n",
       "    </tr>\n",
       "  </thead>\n",
       "  <tbody>\n",
       "    <tr>\n",
       "      <th>8513</th>\n",
       "      <td>Regular</td>\n",
       "      <td>DRY23</td>\n",
       "      <td>Soft Drinks</td>\n",
       "      <td>1998</td>\n",
       "      <td>OUT027</td>\n",
       "      <td>Tier 3</td>\n",
       "      <td>Medium</td>\n",
       "      <td>Supermarket Type3</td>\n",
       "      <td>0.108568</td>\n",
       "      <td>NaN</td>\n",
       "      <td>42.9112</td>\n",
       "      <td>4.0</td>\n",
       "    </tr>\n",
       "    <tr>\n",
       "      <th>8514</th>\n",
       "      <td>low fat</td>\n",
       "      <td>FDA11</td>\n",
       "      <td>Baking Goods</td>\n",
       "      <td>1998</td>\n",
       "      <td>OUT027</td>\n",
       "      <td>Tier 3</td>\n",
       "      <td>Medium</td>\n",
       "      <td>Supermarket Type3</td>\n",
       "      <td>0.043029</td>\n",
       "      <td>NaN</td>\n",
       "      <td>94.7436</td>\n",
       "      <td>4.0</td>\n",
       "    </tr>\n",
       "    <tr>\n",
       "      <th>8515</th>\n",
       "      <td>low fat</td>\n",
       "      <td>FDK38</td>\n",
       "      <td>Canned</td>\n",
       "      <td>1998</td>\n",
       "      <td>OUT027</td>\n",
       "      <td>Tier 3</td>\n",
       "      <td>Medium</td>\n",
       "      <td>Supermarket Type3</td>\n",
       "      <td>0.053032</td>\n",
       "      <td>NaN</td>\n",
       "      <td>149.1734</td>\n",
       "      <td>4.0</td>\n",
       "    </tr>\n",
       "    <tr>\n",
       "      <th>8516</th>\n",
       "      <td>low fat</td>\n",
       "      <td>FDO38</td>\n",
       "      <td>Canned</td>\n",
       "      <td>1998</td>\n",
       "      <td>OUT027</td>\n",
       "      <td>Tier 3</td>\n",
       "      <td>Medium</td>\n",
       "      <td>Supermarket Type3</td>\n",
       "      <td>0.072486</td>\n",
       "      <td>NaN</td>\n",
       "      <td>78.9986</td>\n",
       "      <td>4.0</td>\n",
       "    </tr>\n",
       "    <tr>\n",
       "      <th>8517</th>\n",
       "      <td>low fat</td>\n",
       "      <td>FDG32</td>\n",
       "      <td>Fruits and Vegetables</td>\n",
       "      <td>1998</td>\n",
       "      <td>OUT027</td>\n",
       "      <td>Tier 3</td>\n",
       "      <td>Medium</td>\n",
       "      <td>Supermarket Type3</td>\n",
       "      <td>0.175143</td>\n",
       "      <td>NaN</td>\n",
       "      <td>222.3772</td>\n",
       "      <td>4.0</td>\n",
       "    </tr>\n",
       "    <tr>\n",
       "      <th>8518</th>\n",
       "      <td>low fat</td>\n",
       "      <td>NCT53</td>\n",
       "      <td>Health and Hygiene</td>\n",
       "      <td>1998</td>\n",
       "      <td>OUT027</td>\n",
       "      <td>Tier 3</td>\n",
       "      <td>Medium</td>\n",
       "      <td>Supermarket Type3</td>\n",
       "      <td>0.000000</td>\n",
       "      <td>NaN</td>\n",
       "      <td>164.5526</td>\n",
       "      <td>4.0</td>\n",
       "    </tr>\n",
       "    <tr>\n",
       "      <th>8519</th>\n",
       "      <td>low fat</td>\n",
       "      <td>FDN09</td>\n",
       "      <td>Snack Foods</td>\n",
       "      <td>1998</td>\n",
       "      <td>OUT027</td>\n",
       "      <td>Tier 3</td>\n",
       "      <td>Medium</td>\n",
       "      <td>Supermarket Type3</td>\n",
       "      <td>0.034706</td>\n",
       "      <td>NaN</td>\n",
       "      <td>241.6828</td>\n",
       "      <td>4.0</td>\n",
       "    </tr>\n",
       "    <tr>\n",
       "      <th>8520</th>\n",
       "      <td>low fat</td>\n",
       "      <td>DRE13</td>\n",
       "      <td>Soft Drinks</td>\n",
       "      <td>1998</td>\n",
       "      <td>OUT027</td>\n",
       "      <td>Tier 3</td>\n",
       "      <td>Medium</td>\n",
       "      <td>Supermarket Type3</td>\n",
       "      <td>0.027571</td>\n",
       "      <td>NaN</td>\n",
       "      <td>86.6198</td>\n",
       "      <td>4.0</td>\n",
       "    </tr>\n",
       "    <tr>\n",
       "      <th>8521</th>\n",
       "      <td>reg</td>\n",
       "      <td>FDT50</td>\n",
       "      <td>Dairy</td>\n",
       "      <td>1998</td>\n",
       "      <td>OUT027</td>\n",
       "      <td>Tier 3</td>\n",
       "      <td>Medium</td>\n",
       "      <td>Supermarket Type3</td>\n",
       "      <td>0.107715</td>\n",
       "      <td>NaN</td>\n",
       "      <td>97.8752</td>\n",
       "      <td>4.0</td>\n",
       "    </tr>\n",
       "    <tr>\n",
       "      <th>8522</th>\n",
       "      <td>reg</td>\n",
       "      <td>FDM58</td>\n",
       "      <td>Snack Foods</td>\n",
       "      <td>1998</td>\n",
       "      <td>OUT027</td>\n",
       "      <td>Tier 3</td>\n",
       "      <td>Medium</td>\n",
       "      <td>Supermarket Type3</td>\n",
       "      <td>0.000000</td>\n",
       "      <td>NaN</td>\n",
       "      <td>112.2544</td>\n",
       "      <td>4.0</td>\n",
       "    </tr>\n",
       "  </tbody>\n",
       "</table>\n",
       "</div>"
      ],
      "text/plain": [
       "     Item Fat Content Item Identifier              Item Type  \\\n",
       "8513          Regular           DRY23            Soft Drinks   \n",
       "8514          low fat           FDA11           Baking Goods   \n",
       "8515          low fat           FDK38                 Canned   \n",
       "8516          low fat           FDO38                 Canned   \n",
       "8517          low fat           FDG32  Fruits and Vegetables   \n",
       "8518          low fat           NCT53     Health and Hygiene   \n",
       "8519          low fat           FDN09            Snack Foods   \n",
       "8520          low fat           DRE13            Soft Drinks   \n",
       "8521              reg           FDT50                  Dairy   \n",
       "8522              reg           FDM58            Snack Foods   \n",
       "\n",
       "      Outlet Establishment Year Outlet Identifier Outlet Location Type  \\\n",
       "8513                       1998            OUT027               Tier 3   \n",
       "8514                       1998            OUT027               Tier 3   \n",
       "8515                       1998            OUT027               Tier 3   \n",
       "8516                       1998            OUT027               Tier 3   \n",
       "8517                       1998            OUT027               Tier 3   \n",
       "8518                       1998            OUT027               Tier 3   \n",
       "8519                       1998            OUT027               Tier 3   \n",
       "8520                       1998            OUT027               Tier 3   \n",
       "8521                       1998            OUT027               Tier 3   \n",
       "8522                       1998            OUT027               Tier 3   \n",
       "\n",
       "     Outlet Size        Outlet Type  Item Visibility  Item Weight     Sales  \\\n",
       "8513      Medium  Supermarket Type3         0.108568          NaN   42.9112   \n",
       "8514      Medium  Supermarket Type3         0.043029          NaN   94.7436   \n",
       "8515      Medium  Supermarket Type3         0.053032          NaN  149.1734   \n",
       "8516      Medium  Supermarket Type3         0.072486          NaN   78.9986   \n",
       "8517      Medium  Supermarket Type3         0.175143          NaN  222.3772   \n",
       "8518      Medium  Supermarket Type3         0.000000          NaN  164.5526   \n",
       "8519      Medium  Supermarket Type3         0.034706          NaN  241.6828   \n",
       "8520      Medium  Supermarket Type3         0.027571          NaN   86.6198   \n",
       "8521      Medium  Supermarket Type3         0.107715          NaN   97.8752   \n",
       "8522      Medium  Supermarket Type3         0.000000          NaN  112.2544   \n",
       "\n",
       "      Rating  \n",
       "8513     4.0  \n",
       "8514     4.0  \n",
       "8515     4.0  \n",
       "8516     4.0  \n",
       "8517     4.0  \n",
       "8518     4.0  \n",
       "8519     4.0  \n",
       "8520     4.0  \n",
       "8521     4.0  \n",
       "8522     4.0  "
      ]
     },
     "execution_count": 4,
     "metadata": {},
     "output_type": "execute_result"
    }
   ],
   "source": [
    "# To see the buttom data\n",
    "df.tail(10)"
   ]
  },
  {
   "cell_type": "code",
   "execution_count": 5,
   "id": "2602d236-94b7-4844-af9e-ab8b8e2e102d",
   "metadata": {},
   "outputs": [
    {
     "data": {
      "text/plain": [
       "(8523, 12)"
      ]
     },
     "execution_count": 5,
     "metadata": {},
     "output_type": "execute_result"
    }
   ],
   "source": [
    "# size of Data\n",
    "df.shape"
   ]
  },
  {
   "cell_type": "markdown",
   "id": "df3c7d09-d486-4b82-99dc-f0ae4ac1d2fa",
   "metadata": {},
   "source": [
    "### Inspecting columns"
   ]
  },
  {
   "cell_type": "code",
   "execution_count": 6,
   "id": "3d61dc31-fbf4-4337-9b95-5f17c7e31442",
   "metadata": {},
   "outputs": [
    {
     "data": {
      "text/plain": [
       "Index(['Item Fat Content', 'Item Identifier', 'Item Type',\n",
       "       'Outlet Establishment Year', 'Outlet Identifier',\n",
       "       'Outlet Location Type', 'Outlet Size', 'Outlet Type', 'Item Visibility',\n",
       "       'Item Weight', 'Sales', 'Rating'],\n",
       "      dtype='object')"
      ]
     },
     "execution_count": 6,
     "metadata": {},
     "output_type": "execute_result"
    }
   ],
   "source": [
    "#Field information\n",
    "df.columns"
   ]
  },
  {
   "cell_type": "code",
   "execution_count": 7,
   "id": "38374434-2048-452e-af8a-1905600f6222",
   "metadata": {},
   "outputs": [
    {
     "data": {
      "text/plain": [
       "Item Fat Content              object\n",
       "Item Identifier               object\n",
       "Item Type                     object\n",
       "Outlet Establishment Year      int64\n",
       "Outlet Identifier             object\n",
       "Outlet Location Type          object\n",
       "Outlet Size                   object\n",
       "Outlet Type                   object\n",
       "Item Visibility              float64\n",
       "Item Weight                  float64\n",
       "Sales                        float64\n",
       "Rating                       float64\n",
       "dtype: object"
      ]
     },
     "execution_count": 7,
     "metadata": {},
     "output_type": "execute_result"
    }
   ],
   "source": [
    "#data type\n",
    "df.dtypes"
   ]
  },
  {
   "cell_type": "markdown",
   "id": "52d2ece7-2ec8-470e-8243-7ff34ceee087",
   "metadata": {},
   "source": [
    "### Data Cleaning"
   ]
  },
  {
   "cell_type": "code",
   "execution_count": 8,
   "id": "e2ce3ca6-2df8-471b-9b98-3d7178459f98",
   "metadata": {},
   "outputs": [
    {
     "name": "stdout",
     "output_type": "stream",
     "text": [
      "['Regular' 'Low Fat' 'low fat' 'LF' 'reg']\n"
     ]
    }
   ],
   "source": [
    "# Inspecting item fat column\n",
    "print(df['Item Fat Content'].unique())"
   ]
  },
  {
   "cell_type": "code",
   "execution_count": 9,
   "id": "c785392e-7fc9-4d26-9210-228ea15dbf9e",
   "metadata": {},
   "outputs": [],
   "source": [
    "# Item fat column standardization\n",
    "df['Item Fat Content'] = df['Item Fat Content'].replace({'LF':'Low Fat',\n",
    "                                                         'low fat':'Low Fat',\n",
    "                                                         'reg':'Regular'\n",
    "                                                        })\n"
   ]
  },
  {
   "cell_type": "code",
   "execution_count": 10,
   "id": "ab12570d-a2ba-4c7e-9db9-5d1765800e51",
   "metadata": {},
   "outputs": [
    {
     "name": "stdout",
     "output_type": "stream",
     "text": [
      "['Regular' 'Low Fat']\n"
     ]
    }
   ],
   "source": [
    "# checking the colums \n",
    "print(df['Item Fat Content'].unique())"
   ]
  },
  {
   "cell_type": "markdown",
   "id": "87524e73-bbcf-4ad6-82fc-b994ef878dfe",
   "metadata": {},
   "source": [
    "#### BUSINESS REQUIREMENTS"
   ]
  },
  {
   "cell_type": "markdown",
   "id": "1d318b37-e48d-416f-84f2-9a9d4f82fe92",
   "metadata": {},
   "source": [
    "##### KPI's REQUIREMENTS"
   ]
  },
  {
   "cell_type": "code",
   "execution_count": 11,
   "id": "d520975c-a0b2-4ea4-a26d-4352f6f84e18",
   "metadata": {},
   "outputs": [
    {
     "name": "stdout",
     "output_type": "stream",
     "text": [
      "Total Sales: $1,201,681\n",
      "Average Sales: $141\n",
      "No of Items Sold: 8,523\n",
      "Distinct_item_type: 16\n",
      "Average Rating: 4\n"
     ]
    }
   ],
   "source": [
    "#Total Sales\n",
    "total_sales =df['Sales'].sum()\n",
    "\n",
    "#Avg Sales\n",
    "avg_sales =df['Sales'].mean()\n",
    "\n",
    "#No of Item Sold\n",
    "no_of_items_sold =df['Item Identifier'].count()\n",
    "\n",
    "#Distinct Count of Item type\n",
    "distinct_item_type =df['Item Type'].nunique()\n",
    "\n",
    "#Average ratings\n",
    "avg_rating =df['Rating'].mean()\n",
    "\n",
    "\n",
    "#Display\n",
    "print(f\"Total Sales: ${total_sales:,.0f}\")\n",
    "print(f\"Average Sales: ${avg_sales:,.0f}\")\n",
    "print(f\"No of Items Sold: {no_of_items_sold:,.0f}\")\n",
    "print(f\"Distinct_item_type: {distinct_item_type:,.0f}\")\n",
    "print(f\"Average Rating: {avg_rating:,.0f}\")\n"
   ]
  },
  {
   "cell_type": "markdown",
   "id": "7ad186d4-0b5a-468d-aa25-95d3baa83df6",
   "metadata": {},
   "source": []
  },
  {
   "cell_type": "code",
   "execution_count": 12,
   "id": "795daf55-e4b2-444b-a73c-e5308501892a",
   "metadata": {},
   "outputs": [
    {
     "name": "stdout",
     "output_type": "stream",
     "text": [
      " Distinct outlet location types: 3\n"
     ]
    }
   ],
   "source": [
    "# Checking the no.of outlet location types \n",
    "\n",
    "distinct_count = df['Outlet Location Type'].nunique()\n",
    "print(\" Distinct outlet location types:\", distinct_count)\n"
   ]
  },
  {
   "cell_type": "code",
   "execution_count": null,
   "id": "355e6c06-0d58-4aa7-98a3-2978e2cf78c3",
   "metadata": {},
   "outputs": [],
   "source": []
  },
  {
   "cell_type": "code",
   "execution_count": 13,
   "id": "c03585ad-c246-42e1-b325-cbea9eec7d51",
   "metadata": {},
   "outputs": [
    {
     "data": {
      "text/plain": [
       "Outlet Location Type\n",
       "Tier 3    3350\n",
       "Tier 2    2785\n",
       "Tier 1    2388\n",
       "Name: count, dtype: int64"
      ]
     },
     "execution_count": 13,
     "metadata": {},
     "output_type": "execute_result"
    }
   ],
   "source": [
    "# Checking how many times an outlet location type was opened to know if it contributes to sales\n",
    "\n",
    "df['Outlet Location Type'].value_counts()\n"
   ]
  },
  {
   "cell_type": "markdown",
   "id": "34651c01-cb24-4042-993a-33465e556682",
   "metadata": {},
   "source": [
    "##### CHARTS REQUIREMENTS"
   ]
  },
  {
   "cell_type": "markdown",
   "id": "4720828c-1c01-45b2-aa4a-2788fc1e5006",
   "metadata": {},
   "source": [
    "##### Total Sales by Fat Content"
   ]
  },
  {
   "cell_type": "code",
   "execution_count": 14,
   "id": "1fc30249-815d-443c-907a-0f16ac9ff373",
   "metadata": {},
   "outputs": [
    {
     "data": {
      "image/png": "[encoded data removed]",
      "text/plain": [
       "<Figure size 640x480 with 1 Axes>"
      ]
     },
     "metadata": {},
     "output_type": "display_data"
    }
   ],
   "source": [
    "sales_by_fat = df.groupby('Item Fat Content')['Sales'].sum()\n",
    "\n",
    "colors = ['#90e0ef','#0077b6']\n",
    "\n",
    "plt.pie(sales_by_fat, labels= sales_by_fat.index, \n",
    "        autopct = '%.1f%%', \n",
    "        startangle = 90,\n",
    "       colors = colors )\n",
    "                            \n",
    "\n",
    "plt.title('Sales by Fat Content')\n",
    "plt.axis('equal')\n",
    "plt.show()"
   ]
  },
  {
   "cell_type": "markdown",
   "id": "cb716f9d-7027-474a-bf8b-5273127b5d92",
   "metadata": {},
   "source": [
    "##### Total Sales by Item Type"
   ]
  },
  {
   "cell_type": "code",
   "execution_count": 21,
   "id": "9a57d541-e99d-4fea-b11b-04fec95450dd",
   "metadata": {},
   "outputs": [
    {
     "data": {
      "text/plain": [
       "<function matplotlib.pyplot.show(close=None, block=None)>"
      ]
     },
     "execution_count": 21,
     "metadata": {},
     "output_type": "execute_result"
    },
    {
     "data": {
      "image/png": "[encoded data removed]",
      "text/plain": [
       "<Figure size 1000x600 with 1 Axes>"
      ]
     },
     "metadata": {},
     "output_type": "display_data"
    }
   ],
   "source": [
    "sales_by_type = df.groupby('Item Type')['Sales'].sum().sort_values(ascending=False)\n",
    "\n",
    "plt.figure(figsize=(10,6))\n",
    "color= ['#0077b6']\n",
    "bars = plt.bar(sales_by_type.index,sales_by_type.values,color=color )\n",
    "\n",
    "plt.xticks(rotation= -90)\n",
    "plt.xlabel('Item Type')\n",
    "plt.ylabel('Total Sales')\n",
    "plt.title('Total Sales by Item Type')\n",
    "\n",
    "for bar in bars:\n",
    "    plt.text(bar.get_x()+bar.get_width() / 2, bar.get_height(),\n",
    "             f'{bar.get_height():,.0f}', ha='center', va='bottom', fontsize=8)\n",
    "             \n",
    "\n",
    "plt.tight_layout()\n",
    "plt.show\n"
   ]
  },
  {
   "cell_type": "markdown",
   "id": "d2b090bb-d5e3-4044-ad97-bb3d2850aa98",
   "metadata": {},
   "source": [
    "##### Fat Content by Outlet for Total Sales "
   ]
  },
  {
   "cell_type": "code",
   "execution_count": 22,
   "id": "6c5cb3ac-5bd6-469b-b535-27debca9bc8c",
   "metadata": {},
   "outputs": [
    {
     "data": {
      "image/png": "[encoded data removed]",
      "text/plain": [
       "<Figure size 800x500 with 1 Axes>"
      ]
     },
     "metadata": {},
     "output_type": "display_data"
    }
   ],
   "source": [
    "grouped = df.groupby(['Outlet Location Type', 'Item Fat Content'])['Sales'].sum().unstack()\n",
    "grouped = grouped[['Regular','Low Fat']]\n",
    " \n",
    "custom_colors= ['#0077b6','#90e0ef']\n",
    "ax = grouped.plot(kind='bar', figsize=(8, 5),\n",
    "                  title='Outlet Tier by Item Fat Content',\n",
    "                 color=custom_colors)\n",
    "\n",
    "plt.xlabel('Outlet Location Tier')\n",
    "plt.ylabel('Total Sales')\n",
    "plt.legend(title ='Item Fat Content')\n",
    "\n",
    "plt.tight_layout()\n",
    "plt.show()\n"
   ]
  },
  {
   "cell_type": "code",
   "execution_count": null,
   "id": "3c6bd5de-ed7c-4c68-bdfc-5d8b1abc3e0b",
   "metadata": {},
   "outputs": [],
   "source": []
  },
  {
   "cell_type": "code",
   "execution_count": null,
   "id": "d1540286-95a4-4089-99bc-5bf712ff3207",
   "metadata": {},
   "outputs": [],
   "source": []
  },
  {
   "cell_type": "markdown",
   "id": "54213ae7-4ffd-438d-ac1f-9c22e1ff6e65",
   "metadata": {},
   "source": [
    "##### Total Sales by Outlet Establishment"
   ]
  },
  {
   "cell_type": "code",
   "execution_count": 17,
   "id": "8cd726d8-73a7-426c-9f86-cc6a20b92877",
   "metadata": {},
   "outputs": [
    {
     "data": {
      "image/png": "[encoded data removed]",
      "text/plain": [
       "<Figure size 900x500 with 1 Axes>"
      ]
     },
     "metadata": {},
     "output_type": "display_data"
    }
   ],
   "source": [
    "sales_by_year =df.groupby('Outlet Establishment Year')['Sales'].sum().sort_index()\n",
    "\n",
    "\n",
    "plt.figure(figsize=(9,5))\n",
    "plt.plot(sales_by_year.index,sales_by_year.values, marker='o',linestyle='-',color='#0077b6')\n",
    "\n",
    "plt.xlabel('Outlet Establishment Year')\n",
    "plt.ylabel('Total Sales')\n",
    "plt.title('Outlet Establishment')\n",
    "\n",
    " #Setting all year labels manually(because some of them were not appearing on the x axis)\n",
    "plt.xticks(sales_by_year.index,rotation=90) \n",
    "\n",
    "for x,y in zip(sales_by_year.index,sales_by_year.values):\n",
    "    plt.text(x,y, f'{y:,.0f}',ha='center' ,va='bottom', fontsize=8)\n",
    "\n",
    "plt.tight_layout()\n",
    "plt.show()\n"
   ]
  },
  {
   "cell_type": "markdown",
   "id": "9bb89cbc-efd0-4ead-8e1e-223411f203b0",
   "metadata": {},
   "source": [
    "##### Sales by Outlet Size\n"
   ]
  },
  {
   "cell_type": "code",
   "execution_count": 18,
   "id": "61fb2adc-5a7d-4c07-ac14-15d47d0d6891",
   "metadata": {},
   "outputs": [
    {
     "data": {
      "image/png": "[encoded data removed]",
      "text/plain": [
       "<Figure size 400x400 with 1 Axes>"
      ]
     },
     "metadata": {},
     "output_type": "display_data"
    }
   ],
   "source": [
    "sales_by_size= df.groupby('Outlet Size')['Sales'].sum()\n",
    "\n",
    "custom_colors=['#00b4d8','#90e0ef','#caf0f8']\n",
    "plt.figure(figsize=(4,4))\n",
    "plt.pie(sales_by_size, labels =sales_by_size.index, \n",
    "        autopct='%1.1f%%', \n",
    "        startangle= 90,\n",
    "       colors=custom_colors)\n",
    "\n",
    "\n",
    "plt.title('Outlet Size')\n",
    "\n",
    "plt.tight_layout()\n",
    "plt.show()\n",
    "\n",
    "           "
   ]
  },
  {
   "cell_type": "markdown",
   "id": "485829a7-1bf7-4883-a2cc-f521f1095991",
   "metadata": {},
   "source": [
    "##### **Sales by Outlet Location**\n"
   ]
  },
  {
   "cell_type": "code",
   "execution_count": 19,
   "id": "b5def0ec-4d2b-43b0-8ca9-5c8c103bc380",
   "metadata": {},
   "outputs": [
    {
     "data": {
      "image/png": "[encoded data removed]",
      "text/plain": [
       "<Figure size 800x300 with 1 Axes>"
      ]
     },
     "metadata": {},
     "output_type": "display_data"
    }
   ],
   "source": [
    "sales_by_location = df.groupby('Outlet Location Type')['Sales'].sum().reset_index()\n",
    "sales_by_location =sales_by_location.sort_values('Sales',ascending=False)\n",
    "\n",
    "\n",
    "plt.figure(figsize=(8,3)) #smaller height,enough width\n",
    "ax=sns.barplot(x='Sales',y='Outlet Location Type', data=sales_by_location,color= '#0077b6')\n",
    "\n",
    "plt.title('Total Sales by Outlet Location Type')\n",
    "plt.xlabel('Total Sales')\n",
    "plt.ylabel('Outlet Location Type')\n",
    "\n",
    "plt.tight_layout() #ensures layout fits without scroll\n",
    "plt.show()"
   ]
  },
  {
   "cell_type": "code",
   "execution_count": null,
   "id": "8fabcc61-54c0-455c-866b-69a89cec6610",
   "metadata": {},
   "outputs": [],
   "source": []
  },
  {
   "cell_type": "markdown",
   "id": "a802f157-9592-400c-b257-11f56bb9e766",
   "metadata": {},
   "source": [
    "## Insights"
   ]
  },
  {
   "cell_type": "markdown",
   "id": "a0af2e45-24c4-451f-ac5c-3ddae7bb6e3c",
   "metadata": {},
   "source": [
    "\n",
    "#### Total and Average Sales Performance\n",
    "- DailyDash recorded over **1.2 million** dollars in total sales across **8,523** entries with an average sales value approximately **$141** per item.\n",
    "- The average customer rating is around **4**, indicating high customer satisfaction.\n",
    "\n",
    "#### Sales by Item Fat Content\n",
    "- Low Fat products account for **64.4 percent** of total sales.\n",
    "- This shows a strong consumer preference for healthier options.\n",
    "\n",
    "#### Sales by Item Type\n",
    "- Top 3 performing categories include **Fruits and Vegetables,Snack Foods and Household**.\n",
    "- Lower-performing categories include **Seafood ,Breakfast and Starchy Food**.\n",
    "\n",
    "#### Outlet Location Tier Impact\n",
    "- Tier 3 outlets generated the highest sales volume, followed by Tier 2.\n",
    "- This is due to more store presence in **Tier 3 areas with 3350** and **Tier 2 with 2785** outlet opened.\n",
    "\n",
    "#### Trends Over Outlet Establishment Year\n",
    "- Outlets established in **1998** show high sales while outlet established in **2011** has the lowest sales\n",
    "\n",
    "#### Sales by Outlet Size\n",
    "- Medium-sized outlets lead in total sales, followed by small, then large outlets.\n",
    "- This may be due to  better space efficiency and cost management of Meduim and Small size outlet.\n"
   ]
  },
  {
   "cell_type": "code",
   "execution_count": null,
   "id": "d85b6157-5d6c-4ac5-a5e5-44760259952b",
   "metadata": {},
   "outputs": [],
   "source": []
  },
  {
   "cell_type": "markdown",
   "id": "c8623fbd-aca4-49d1-b807-df9785ee071e",
   "metadata": {},
   "source": [
    "## Recommendations"
   ]
  },
  {
   "cell_type": "markdown",
   "id": "25f3a701-8d59-468a-b4f7-1cae44351503",
   "metadata": {},
   "source": [
    "### Based on the sales and customer insights, the following recommendations are suggested to help DailyDash improve its business performance and customer satisfaction:\n",
    "\n",
    "1. Capitalize on Low Fat Product Demand\n",
    "- With over 64% of sales coming from Low Fat items, DailyDash should expand its inventory of healthy and diet-conscious products.\n",
    "- it should also consider launching a health-focused product line and promoting it through targeted marketing campaigns.\n",
    "\n",
    "2. Boost Inventory in High-Performing Categories\n",
    "- Since Fruits & Vegetables, Snack Foods, and Household items are top performers, DailyDash should ensure consistent stock levels for these categories.\n",
    "- Run bundling promotions and discounts on top-selling items to boost repeat purchases.\n",
    "\n",
    "3. Re-Evaluate Underperforming Categories\n",
    "- Seafood, Breakfast, and Starchy Foods contribute less to overall sales so they should conducting a customer preference survey to understand low performance and  it's causes.\n",
    "- They shouls also explore whether better pricing, packaging, or awareness campaigns can boost interest\n",
    "  or potentially reduce investment in these areas if unviable.\n",
    "\n",
    "4. Invest More in Tier 3 and Tier 2 Locations\n",
    "- With Tier 3 and Tier 2 outlets leading in sales, particularly due to their larger footprint the business shoud continue expanding store presence in these areas and tailor product offerings to match local preferences for even better market fit.\n",
    "\n",
    "5. Optimize for Medium-Sized Outlets\n",
    "- Since Medium outlets are the most profitable, suggesting an ideal balance between size and cost-efficiency, they should focus future expansion on this outlet size.\n",
    "- They can also adopt operational best practices from these stores as a model for new or underperforming ones.\n",
    "\n",
    "6. Modernize or Support Newer Outlets\n",
    "- Outlet opened in 2011 are underperforming compared to that from 1998 and the ones after 2011. Investigate whether this is due to location, marketing, or operational factors.\n",
    "- They should also consider revamping, relocating, or supporting this outlet with better inventory or promotions.\n",
    "\n",
    "### By acting on these recommendations, DailyDash can strengthen its market position, meet evolving customer needs, and increase both profitability and customer loyalty.\n"
   ]
  },
  {
   "cell_type": "code",
   "execution_count": null,
   "id": "0af2e216-475a-4735-8a08-4d15cb37bb47",
   "metadata": {},
   "outputs": [],
   "source": []
  }
 ],
 "metadata": {
  "kernelspec": {
   "display_name": "Python 3 (ipykernel)",
   "language": "python",
   "name": "python3"
  },
  "language_info": {
   "codemirror_mode": {
    "name": "ipython",
    "version": 3
   },
   "file_extension": ".py",
   "mimetype": "text/x-python",
   "name": "python",
   "nbconvert_exporter": "python",
   "pygments_lexer": "ipython3",
   "version": "3.12.7"
  }
 },
 "nbformat": 4,
 "nbformat_minor": 5
}
